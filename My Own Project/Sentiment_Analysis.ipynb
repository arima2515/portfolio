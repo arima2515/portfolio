{
  "nbformat": 4,
  "nbformat_minor": 0,
  "metadata": {
    "colab": {
      "name": "Sentiment Analysis",
      "provenance": [],
      "collapsed_sections": []
    },
    "kernelspec": {
      "name": "python3",
      "display_name": "Python 3"
    },
    "language_info": {
      "name": "python"
    }
  },
  "cells": [
    {
      "cell_type": "code",
      "metadata": {
        "id": "tB4L0Z-sEdcp"
      },
      "source": [
        "import pandas as pd\n",
        "import numpy as np"
      ],
      "execution_count": null,
      "outputs": []
    },
    {
      "cell_type": "code",
      "metadata": {
        "id": "2ckpcj5yEiBu"
      },
      "source": [
        "url = 'https://raw.githubusercontent.com/AlfarrelIndrawan/data-review-spk/main/spk%20teks.txt'\n",
        "data = pd.read_csv(url, delimiter = \"\\t\", encoding='cp1252')"
      ],
      "execution_count": null,
      "outputs": []
    },
    {
      "cell_type": "code",
      "metadata": {
        "colab": {
          "base_uri": "https://localhost:8080/",
          "height": 206
        },
        "id": "VDeEGjsMEj4O",
        "outputId": "b996af1c-7caa-454b-8a8e-f565c6bac19a"
      },
      "source": [
        "data.head()"
      ],
      "execution_count": null,
      "outputs": [
        {
          "output_type": "execute_result",
          "data": {
            "text/html": [
              "<div>\n",
              "<style scoped>\n",
              "    .dataframe tbody tr th:only-of-type {\n",
              "        vertical-align: middle;\n",
              "    }\n",
              "\n",
              "    .dataframe tbody tr th {\n",
              "        vertical-align: top;\n",
              "    }\n",
              "\n",
              "    .dataframe thead th {\n",
              "        text-align: right;\n",
              "    }\n",
              "</style>\n",
              "<table border=\"1\" class=\"dataframe\">\n",
              "  <thead>\n",
              "    <tr style=\"text-align: right;\">\n",
              "      <th></th>\n",
              "      <th>rating</th>\n",
              "      <th>review</th>\n",
              "      <th>jenis_review</th>\n",
              "    </tr>\n",
              "  </thead>\n",
              "  <tbody>\n",
              "    <tr>\n",
              "      <th>0</th>\n",
              "      <td>1</td>\n",
              "      <td>Bagaimana bisa,,data di KTP saya, saya isi ke ...</td>\n",
              "      <td>0</td>\n",
              "    </tr>\n",
              "    <tr>\n",
              "      <th>1</th>\n",
              "      <td>1</td>\n",
              "      <td>Saya kasih satu dulu karena aplikasi saat dido...</td>\n",
              "      <td>0</td>\n",
              "    </tr>\n",
              "    <tr>\n",
              "      <th>2</th>\n",
              "      <td>1</td>\n",
              "      <td>Admin. Masalah saya yg pertama saat melakukan ...</td>\n",
              "      <td>0</td>\n",
              "    </tr>\n",
              "    <tr>\n",
              "      <th>3</th>\n",
              "      <td>1</td>\n",
              "      <td>Sangat kecewa &amp; tdk profesional sekali. Cs ped...</td>\n",
              "      <td>0</td>\n",
              "    </tr>\n",
              "    <tr>\n",
              "      <th>4</th>\n",
              "      <td>1</td>\n",
              "      <td>Aplikasinya sangat buruk. Registrasinya susah ...</td>\n",
              "      <td>0</td>\n",
              "    </tr>\n",
              "  </tbody>\n",
              "</table>\n",
              "</div>"
            ],
            "text/plain": [
              "   rating                                             review  jenis_review\n",
              "0       1  Bagaimana bisa,,data di KTP saya, saya isi ke ...             0\n",
              "1       1  Saya kasih satu dulu karena aplikasi saat dido...             0\n",
              "2       1  Admin. Masalah saya yg pertama saat melakukan ...             0\n",
              "3       1  Sangat kecewa & tdk profesional sekali. Cs ped...             0\n",
              "4       1  Aplikasinya sangat buruk. Registrasinya susah ...             0"
            ]
          },
          "metadata": {},
          "execution_count": 3
        }
      ]
    },
    {
      "cell_type": "code",
      "metadata": {
        "colab": {
          "base_uri": "https://localhost:8080/",
          "height": 423
        },
        "id": "cBL0cnkQo0zS",
        "outputId": "b0bffd22-6f57-42c5-bffc-742b111b8916"
      },
      "source": [
        "data"
      ],
      "execution_count": null,
      "outputs": [
        {
          "output_type": "execute_result",
          "data": {
            "text/html": [
              "<div>\n",
              "<style scoped>\n",
              "    .dataframe tbody tr th:only-of-type {\n",
              "        vertical-align: middle;\n",
              "    }\n",
              "\n",
              "    .dataframe tbody tr th {\n",
              "        vertical-align: top;\n",
              "    }\n",
              "\n",
              "    .dataframe thead th {\n",
              "        text-align: right;\n",
              "    }\n",
              "</style>\n",
              "<table border=\"1\" class=\"dataframe\">\n",
              "  <thead>\n",
              "    <tr style=\"text-align: right;\">\n",
              "      <th></th>\n",
              "      <th>rating</th>\n",
              "      <th>review</th>\n",
              "      <th>jenis_review</th>\n",
              "    </tr>\n",
              "  </thead>\n",
              "  <tbody>\n",
              "    <tr>\n",
              "      <th>0</th>\n",
              "      <td>1</td>\n",
              "      <td>Bagaimana bisa,,data di KTP saya, saya isi ke ...</td>\n",
              "      <td>0</td>\n",
              "    </tr>\n",
              "    <tr>\n",
              "      <th>1</th>\n",
              "      <td>1</td>\n",
              "      <td>Saya kasih satu dulu karena aplikasi saat dido...</td>\n",
              "      <td>0</td>\n",
              "    </tr>\n",
              "    <tr>\n",
              "      <th>2</th>\n",
              "      <td>1</td>\n",
              "      <td>Admin. Masalah saya yg pertama saat melakukan ...</td>\n",
              "      <td>0</td>\n",
              "    </tr>\n",
              "    <tr>\n",
              "      <th>3</th>\n",
              "      <td>1</td>\n",
              "      <td>Sangat kecewa &amp; tdk profesional sekali. Cs ped...</td>\n",
              "      <td>0</td>\n",
              "    </tr>\n",
              "    <tr>\n",
              "      <th>4</th>\n",
              "      <td>1</td>\n",
              "      <td>Aplikasinya sangat buruk. Registrasinya susah ...</td>\n",
              "      <td>0</td>\n",
              "    </tr>\n",
              "    <tr>\n",
              "      <th>...</th>\n",
              "      <td>...</td>\n",
              "      <td>...</td>\n",
              "      <td>...</td>\n",
              "    </tr>\n",
              "    <tr>\n",
              "      <th>195</th>\n",
              "      <td>5</td>\n",
              "      <td>Saya vaksin yang pertama tgl 09/10/2021 , dan ...</td>\n",
              "      <td>1</td>\n",
              "    </tr>\n",
              "    <tr>\n",
              "      <th>196</th>\n",
              "      <td>5</td>\n",
              "      <td>Alhamdulillah sejauh ini saya tidak ada kendal...</td>\n",
              "      <td>1</td>\n",
              "    </tr>\n",
              "    <tr>\n",
              "      <th>197</th>\n",
              "      <td>5</td>\n",
              "      <td>Aplikasi ini sangat dibutuhkan banget untuk ma...</td>\n",
              "      <td>1</td>\n",
              "    </tr>\n",
              "    <tr>\n",
              "      <th>198</th>\n",
              "      <td>5</td>\n",
              "      <td>Alhamdulilah apk nya membantu banget, syukur j...</td>\n",
              "      <td>1</td>\n",
              "    </tr>\n",
              "    <tr>\n",
              "      <th>199</th>\n",
              "      <td>5</td>\n",
              "      <td>Bagus banget aplikasi nya cocok banget lagi ke...</td>\n",
              "      <td>1</td>\n",
              "    </tr>\n",
              "  </tbody>\n",
              "</table>\n",
              "<p>200 rows × 3 columns</p>\n",
              "</div>"
            ],
            "text/plain": [
              "     rating                                             review  jenis_review\n",
              "0         1  Bagaimana bisa,,data di KTP saya, saya isi ke ...             0\n",
              "1         1  Saya kasih satu dulu karena aplikasi saat dido...             0\n",
              "2         1  Admin. Masalah saya yg pertama saat melakukan ...             0\n",
              "3         1  Sangat kecewa & tdk profesional sekali. Cs ped...             0\n",
              "4         1  Aplikasinya sangat buruk. Registrasinya susah ...             0\n",
              "..      ...                                                ...           ...\n",
              "195       5  Saya vaksin yang pertama tgl 09/10/2021 , dan ...             1\n",
              "196       5  Alhamdulillah sejauh ini saya tidak ada kendal...             1\n",
              "197       5  Aplikasi ini sangat dibutuhkan banget untuk ma...             1\n",
              "198       5  Alhamdulilah apk nya membantu banget, syukur j...             1\n",
              "199       5  Bagus banget aplikasi nya cocok banget lagi ke...             1\n",
              "\n",
              "[200 rows x 3 columns]"
            ]
          },
          "metadata": {},
          "execution_count": 4
        }
      ]
    },
    {
      "cell_type": "code",
      "metadata": {
        "colab": {
          "base_uri": "https://localhost:8080/"
        },
        "id": "o1ONCaMr3IRx",
        "outputId": "6f5fe68c-562a-429a-99b4-b41f286547ae"
      },
      "source": [
        "data['review']"
      ],
      "execution_count": null,
      "outputs": [
        {
          "output_type": "execute_result",
          "data": {
            "text/plain": [
              "0      Bagaimana bisa,,data di KTP saya, saya isi ke ...\n",
              "1      Saya kasih satu dulu karena aplikasi saat dido...\n",
              "2      Admin. Masalah saya yg pertama saat melakukan ...\n",
              "3      Sangat kecewa & tdk profesional sekali. Cs ped...\n",
              "4      Aplikasinya sangat buruk. Registrasinya susah ...\n",
              "                             ...                        \n",
              "195    Saya vaksin yang pertama tgl 09/10/2021 , dan ...\n",
              "196    Alhamdulillah sejauh ini saya tidak ada kendal...\n",
              "197    Aplikasi ini sangat dibutuhkan banget untuk ma...\n",
              "198    Alhamdulilah apk nya membantu banget, syukur j...\n",
              "199    Bagus banget aplikasi nya cocok banget lagi ke...\n",
              "Name: review, Length: 200, dtype: object"
            ]
          },
          "metadata": {},
          "execution_count": 5
        }
      ]
    },
    {
      "cell_type": "code",
      "metadata": {
        "colab": {
          "base_uri": "https://localhost:8080/"
        },
        "id": "S_qXXc4qzW4B",
        "outputId": "70abc69a-85ef-4feb-f38b-44a5604342c8"
      },
      "source": [
        "data.columns"
      ],
      "execution_count": null,
      "outputs": [
        {
          "output_type": "execute_result",
          "data": {
            "text/plain": [
              "Index(['rating', 'review', 'jenis_review'], dtype='object')"
            ]
          },
          "metadata": {},
          "execution_count": 6
        }
      ]
    },
    {
      "cell_type": "markdown",
      "metadata": {
        "id": "Yw4brcLjN5z-"
      },
      "source": [
        "# Preprocessing"
      ]
    },
    {
      "cell_type": "code",
      "metadata": {
        "id": "-FlzYbYHUF2b",
        "outputId": "e8519c5a-6f8e-4876-f5f3-1fd49a8f67ac",
        "colab": {
          "base_uri": "https://localhost:8080/",
          "height": 206
        }
      },
      "source": [
        "#lowercase all the text\n",
        "new = []\n",
        "for kalimat in data['review']:\n",
        "  new.append(kalimat.lower())\n",
        "data['review'] = pd.Series(data=new)"
      ],
      "execution_count": null,
      "outputs": [
        {
          "output_type": "execute_result",
          "data": {
            "text/html": [
              "<div>\n",
              "<style scoped>\n",
              "    .dataframe tbody tr th:only-of-type {\n",
              "        vertical-align: middle;\n",
              "    }\n",
              "\n",
              "    .dataframe tbody tr th {\n",
              "        vertical-align: top;\n",
              "    }\n",
              "\n",
              "    .dataframe thead th {\n",
              "        text-align: right;\n",
              "    }\n",
              "</style>\n",
              "<table border=\"1\" class=\"dataframe\">\n",
              "  <thead>\n",
              "    <tr style=\"text-align: right;\">\n",
              "      <th></th>\n",
              "      <th>rating</th>\n",
              "      <th>review</th>\n",
              "      <th>jenis_review</th>\n",
              "    </tr>\n",
              "  </thead>\n",
              "  <tbody>\n",
              "    <tr>\n",
              "      <th>0</th>\n",
              "      <td>1</td>\n",
              "      <td>bagaimana bisa,,data di ktp saya, saya isi ke ...</td>\n",
              "      <td>0</td>\n",
              "    </tr>\n",
              "    <tr>\n",
              "      <th>1</th>\n",
              "      <td>1</td>\n",
              "      <td>saya kasih satu dulu karena aplikasi saat dido...</td>\n",
              "      <td>0</td>\n",
              "    </tr>\n",
              "    <tr>\n",
              "      <th>2</th>\n",
              "      <td>1</td>\n",
              "      <td>admin. masalah saya yg pertama saat melakukan ...</td>\n",
              "      <td>0</td>\n",
              "    </tr>\n",
              "    <tr>\n",
              "      <th>3</th>\n",
              "      <td>1</td>\n",
              "      <td>sangat kecewa &amp; tdk profesional sekali. cs ped...</td>\n",
              "      <td>0</td>\n",
              "    </tr>\n",
              "    <tr>\n",
              "      <th>4</th>\n",
              "      <td>1</td>\n",
              "      <td>aplikasinya sangat buruk. registrasinya susah ...</td>\n",
              "      <td>0</td>\n",
              "    </tr>\n",
              "  </tbody>\n",
              "</table>\n",
              "</div>"
            ],
            "text/plain": [
              "   rating                                             review  jenis_review\n",
              "0       1  bagaimana bisa,,data di ktp saya, saya isi ke ...             0\n",
              "1       1  saya kasih satu dulu karena aplikasi saat dido...             0\n",
              "2       1  admin. masalah saya yg pertama saat melakukan ...             0\n",
              "3       1  sangat kecewa & tdk profesional sekali. cs ped...             0\n",
              "4       1  aplikasinya sangat buruk. registrasinya susah ...             0"
            ]
          },
          "metadata": {},
          "execution_count": 8
        }
      ]
    },
    {
      "cell_type": "code",
      "metadata": {
        "id": "AnMa2hRMUcbr"
      },
      "source": [
        "import re\n",
        "new = []\n",
        "for kalimat in data['review']:\n",
        "  hasil = re.sub(r\"\\d+\",\"\",kalimat)\n",
        "  new.append(hasil)\n",
        "data['review'] = pd.Series(data=new)"
      ],
      "execution_count": null,
      "outputs": []
    },
    {
      "cell_type": "code",
      "metadata": {
        "id": "KDQz1yQ6UzFb",
        "outputId": "bbd5b4f8-fcdf-488b-ed8d-aa5e21c95819",
        "colab": {
          "base_uri": "https://localhost:8080/"
        }
      },
      "source": [
        "data['review'].head()"
      ],
      "execution_count": null,
      "outputs": [
        {
          "output_type": "execute_result",
          "data": {
            "text/plain": [
              "0    bagaimana bisa,,data di ktp saya, saya isi ke ...\n",
              "1    saya kasih satu dulu karena aplikasi saat dido...\n",
              "2    admin. masalah saya yg pertama saat melakukan ...\n",
              "3    sangat kecewa & tdk profesional sekali. cs ped...\n",
              "4    aplikasinya sangat buruk. registrasinya susah ...\n",
              "Name: review, dtype: object"
            ]
          },
          "metadata": {},
          "execution_count": 11
        }
      ]
    },
    {
      "cell_type": "code",
      "metadata": {
        "colab": {
          "base_uri": "https://localhost:8080/"
        },
        "id": "3miN0MmI4FW9",
        "outputId": "d592383d-2a9b-4b80-b857-0ebc754e0473"
      },
      "source": [
        "!pip install PySastrawi\n",
        "# import StemmerFactory class\n",
        "from Sastrawi.Stemmer.StemmerFactory import StemmerFactory"
      ],
      "execution_count": null,
      "outputs": [
        {
          "output_type": "stream",
          "name": "stdout",
          "text": [
            "Requirement already satisfied: PySastrawi in /usr/local/lib/python3.7/dist-packages (1.2.0)\n"
          ]
        }
      ]
    },
    {
      "cell_type": "code",
      "metadata": {
        "colab": {
          "base_uri": "https://localhost:8080/"
        },
        "id": "-OqeJ-fS4o9u",
        "outputId": "7783581b-3bda-4771-80c5-df2b5f09f759"
      },
      "source": [
        "# create stemmer\n",
        "factory = StemmerFactory()\n",
        "stemmer = factory.create_stemmer()\n",
        "\n",
        "contoh = data['review'][0]\n",
        "print(stemmer.stem(contoh))"
      ],
      "execution_count": null,
      "outputs": [
        {
          "output_type": "stream",
          "name": "stdout",
          "text": [
            "bagaimana bisa data di ktp saya saya isi ke aplikasi peduli lindung bisa tidak singkron ini ktp asli lho bos bisa2 nya bisa muncul tulis sesuai nama dan nik anda dengan ktp saya harus adu mana telpon ke 119 ex 9 ga bisa terus jangan bikin bingung bos kalo bikin aplikasi\n"
          ]
        }
      ]
    },
    {
      "cell_type": "code",
      "metadata": {
        "id": "Q8gLgwaL5Gbn"
      },
      "source": [
        "x=[]\n",
        "for teks in data.review:\n",
        "    x.append(stemmer.stem(teks))"
      ],
      "execution_count": null,
      "outputs": []
    },
    {
      "cell_type": "code",
      "metadata": {
        "id": "thG3Uhka5J8l"
      },
      "source": [
        "clean_review=pd.DataFrame({'clean_review':x})"
      ],
      "execution_count": null,
      "outputs": []
    },
    {
      "cell_type": "code",
      "metadata": {
        "colab": {
          "base_uri": "https://localhost:8080/",
          "height": 423
        },
        "id": "fE0hjIbAF-_O",
        "outputId": "e0991dd1-a7d5-4801-c46c-a26082e0517b"
      },
      "source": [
        "clean_review"
      ],
      "execution_count": null,
      "outputs": [
        {
          "output_type": "execute_result",
          "data": {
            "text/html": [
              "<div>\n",
              "<style scoped>\n",
              "    .dataframe tbody tr th:only-of-type {\n",
              "        vertical-align: middle;\n",
              "    }\n",
              "\n",
              "    .dataframe tbody tr th {\n",
              "        vertical-align: top;\n",
              "    }\n",
              "\n",
              "    .dataframe thead th {\n",
              "        text-align: right;\n",
              "    }\n",
              "</style>\n",
              "<table border=\"1\" class=\"dataframe\">\n",
              "  <thead>\n",
              "    <tr style=\"text-align: right;\">\n",
              "      <th></th>\n",
              "      <th>clean_review</th>\n",
              "    </tr>\n",
              "  </thead>\n",
              "  <tbody>\n",
              "    <tr>\n",
              "      <th>0</th>\n",
              "      <td>bagaimana bisa data di ktp saya saya isi ke ap...</td>\n",
              "    </tr>\n",
              "    <tr>\n",
              "      <th>1</th>\n",
              "      <td>saya kasih satu dulu karena aplikasi saat dido...</td>\n",
              "    </tr>\n",
              "    <tr>\n",
              "      <th>2</th>\n",
              "      <td>admin masalah saya yg pertama saat laku daftar...</td>\n",
              "    </tr>\n",
              "    <tr>\n",
              "      <th>3</th>\n",
              "      <td>sangat kecewa tdk profesional sekali cs peduli...</td>\n",
              "    </tr>\n",
              "    <tr>\n",
              "      <th>4</th>\n",
              "      <td>aplikasi sangat buruk registrasi susah sekali ...</td>\n",
              "    </tr>\n",
              "    <tr>\n",
              "      <th>...</th>\n",
              "      <td>...</td>\n",
              "    </tr>\n",
              "    <tr>\n",
              "      <th>195</th>\n",
              "      <td>saya vaksin yang pertama tgl 09 10 2021 dan ba...</td>\n",
              "    </tr>\n",
              "    <tr>\n",
              "      <th>196</th>\n",
              "      <td>alhamdulillah jauh ini saya tidak ada kendala ...</td>\n",
              "    </tr>\n",
              "    <tr>\n",
              "      <th>197</th>\n",
              "      <td>aplikasi ini sangat butuh banget untuk masa se...</td>\n",
              "    </tr>\n",
              "    <tr>\n",
              "      <th>198</th>\n",
              "      <td>alhamdulilah apk nya bantu banget syukur juga ...</td>\n",
              "    </tr>\n",
              "    <tr>\n",
              "      <th>199</th>\n",
              "      <td>bagus banget aplikasi nya cocok banget lagi ad...</td>\n",
              "    </tr>\n",
              "  </tbody>\n",
              "</table>\n",
              "<p>200 rows × 1 columns</p>\n",
              "</div>"
            ],
            "text/plain": [
              "                                          clean_review\n",
              "0    bagaimana bisa data di ktp saya saya isi ke ap...\n",
              "1    saya kasih satu dulu karena aplikasi saat dido...\n",
              "2    admin masalah saya yg pertama saat laku daftar...\n",
              "3    sangat kecewa tdk profesional sekali cs peduli...\n",
              "4    aplikasi sangat buruk registrasi susah sekali ...\n",
              "..                                                 ...\n",
              "195  saya vaksin yang pertama tgl 09 10 2021 dan ba...\n",
              "196  alhamdulillah jauh ini saya tidak ada kendala ...\n",
              "197  aplikasi ini sangat butuh banget untuk masa se...\n",
              "198  alhamdulilah apk nya bantu banget syukur juga ...\n",
              "199  bagus banget aplikasi nya cocok banget lagi ad...\n",
              "\n",
              "[200 rows x 1 columns]"
            ]
          },
          "metadata": {},
          "execution_count": 11
        }
      ]
    },
    {
      "cell_type": "code",
      "metadata": {
        "id": "iwhW37sL5Qqa"
      },
      "source": [
        "data['review'] = clean_review"
      ],
      "execution_count": null,
      "outputs": []
    },
    {
      "cell_type": "code",
      "metadata": {
        "id": "smeVY64hURQ9"
      },
      "source": [
        "data['jenis_review']=data['jenis_review'].map({1:'positif',0:'negatif'})"
      ],
      "execution_count": null,
      "outputs": []
    },
    {
      "cell_type": "code",
      "metadata": {
        "colab": {
          "base_uri": "https://localhost:8080/"
        },
        "id": "Z-xRfAJu5Uk6",
        "outputId": "25b13387-f806-44a5-ca69-4c15b6987b72"
      },
      "source": [
        "data.shape"
      ],
      "execution_count": null,
      "outputs": [
        {
          "output_type": "execute_result",
          "data": {
            "text/plain": [
              "(200, 3)"
            ]
          },
          "metadata": {},
          "execution_count": 14
        }
      ]
    },
    {
      "cell_type": "markdown",
      "metadata": {
        "id": "FV_FCla-Nvqe"
      },
      "source": [
        "# Model"
      ]
    },
    {
      "cell_type": "code",
      "metadata": {
        "id": "jfzg4sVMHApJ"
      },
      "source": [
        "from sklearn.model_selection import train_test_split"
      ],
      "execution_count": null,
      "outputs": []
    },
    {
      "cell_type": "code",
      "metadata": {
        "id": "xJ_n2qVGG7B2"
      },
      "source": [
        "X = data.review\n",
        "y = data.jenis_review\n",
        "x_train, x_test, y_train, y_test = train_test_split(X,y,test_size=0.2, random_state=42)"
      ],
      "execution_count": null,
      "outputs": []
    },
    {
      "cell_type": "code",
      "metadata": {
        "id": "wFLCqgOv5g_m"
      },
      "source": [
        "from sklearn.feature_extraction.text import CountVectorizer\n",
        "cvec=CountVectorizer()"
      ],
      "execution_count": null,
      "outputs": []
    },
    {
      "cell_type": "code",
      "metadata": {
        "id": "QYk8oeNU5jVW"
      },
      "source": [
        "from sklearn.naive_bayes import BernoulliNB\n",
        "clf = BernoulliNB()"
      ],
      "execution_count": null,
      "outputs": []
    },
    {
      "cell_type": "code",
      "metadata": {
        "id": "tIigf0EK5mk_"
      },
      "source": [
        "from sklearn.pipeline import make_pipeline"
      ],
      "execution_count": null,
      "outputs": []
    },
    {
      "cell_type": "code",
      "metadata": {
        "id": "2x9dxy-05nH6"
      },
      "source": [
        "from sklearn.preprocessing import FunctionTransformer\n",
        "\n",
        "model = make_pipeline(\n",
        "     cvec,\n",
        "     FunctionTransformer(lambda x: x.todense(), accept_sparse=True), \n",
        "     clf\n",
        ")"
      ],
      "execution_count": null,
      "outputs": []
    },
    {
      "cell_type": "code",
      "metadata": {
        "colab": {
          "base_uri": "https://localhost:8080/"
        },
        "id": "MKmq_NUL5qcl",
        "outputId": "760dad95-2bdf-4331-f5b0-561a2b3ff8e1"
      },
      "source": [
        "model.fit(x_train,y_train)"
      ],
      "execution_count": null,
      "outputs": [
        {
          "output_type": "stream",
          "name": "stderr",
          "text": [
            "/usr/local/lib/python3.7/dist-packages/sklearn/utils/validation.py:590: FutureWarning: np.matrix usage is deprecated in 1.0 and will raise a TypeError in 1.2. Please convert to a numpy array with np.asarray. For more information see: https://numpy.org/doc/stable/reference/generated/numpy.matrix.html\n",
            "  FutureWarning,\n"
          ]
        },
        {
          "output_type": "execute_result",
          "data": {
            "text/plain": [
              "Pipeline(steps=[('countvectorizer', CountVectorizer()),\n",
              "                ('functiontransformer',\n",
              "                 FunctionTransformer(accept_sparse=True,\n",
              "                                     func=<function <lambda> at 0x7f120b6073b0>)),\n",
              "                ('bernoullinb', BernoulliNB())])"
            ]
          },
          "metadata": {},
          "execution_count": 21
        }
      ]
    },
    {
      "cell_type": "code",
      "metadata": {
        "colab": {
          "base_uri": "https://localhost:8080/"
        },
        "id": "5EUr9pXx5sDM",
        "outputId": "d5847096-574e-4f44-f084-ea536a74de19"
      },
      "source": [
        "hasil=model.predict(x_test)\n",
        "hasil"
      ],
      "execution_count": null,
      "outputs": [
        {
          "output_type": "stream",
          "name": "stderr",
          "text": [
            "/usr/local/lib/python3.7/dist-packages/sklearn/utils/validation.py:590: FutureWarning: np.matrix usage is deprecated in 1.0 and will raise a TypeError in 1.2. Please convert to a numpy array with np.asarray. For more information see: https://numpy.org/doc/stable/reference/generated/numpy.matrix.html\n",
            "  FutureWarning,\n"
          ]
        },
        {
          "output_type": "execute_result",
          "data": {
            "text/plain": [
              "array(['negatif', 'negatif', 'negatif', 'positif', 'positif', 'positif',\n",
              "       'negatif', 'positif', 'positif', 'negatif', 'negatif', 'positif',\n",
              "       'positif', 'negatif', 'positif', 'positif', 'negatif', 'positif',\n",
              "       'negatif', 'negatif', 'positif', 'negatif', 'negatif', 'negatif',\n",
              "       'negatif', 'negatif', 'negatif', 'negatif', 'positif', 'positif',\n",
              "       'negatif', 'negatif', 'negatif', 'negatif', 'positif', 'positif',\n",
              "       'positif', 'positif', 'positif', 'positif'], dtype='<U7')"
            ]
          },
          "metadata": {},
          "execution_count": 22
        }
      ]
    },
    {
      "cell_type": "code",
      "metadata": {
        "id": "Mu_K72EH5suh"
      },
      "source": [
        "from sklearn.metrics import accuracy_score,confusion_matrix"
      ],
      "execution_count": null,
      "outputs": []
    },
    {
      "cell_type": "code",
      "metadata": {
        "colab": {
          "base_uri": "https://localhost:8080/"
        },
        "id": "CzAEJ2Kj8PyW",
        "outputId": "3754d1df-4aa7-482e-e8b4-9c45d397e7b8"
      },
      "source": [
        "confusion_matrix(hasil,y_test)"
      ],
      "execution_count": null,
      "outputs": [
        {
          "output_type": "execute_result",
          "data": {
            "text/plain": [
              "array([[20,  1],\n",
              "       [ 1, 18]])"
            ]
          },
          "metadata": {},
          "execution_count": 24
        }
      ]
    },
    {
      "cell_type": "code",
      "metadata": {
        "colab": {
          "base_uri": "https://localhost:8080/"
        },
        "id": "pfPlLJSx8SPS",
        "outputId": "fcd8f4f1-2db4-410b-f8ed-9ff04a0a71e2"
      },
      "source": [
        "accuracy_score(hasil,y_test)"
      ],
      "execution_count": null,
      "outputs": [
        {
          "output_type": "execute_result",
          "data": {
            "text/plain": [
              "0.95"
            ]
          },
          "metadata": {},
          "execution_count": 25
        }
      ]
    },
    {
      "cell_type": "code",
      "metadata": {
        "colab": {
          "base_uri": "https://localhost:8080/"
        },
        "id": "2Hup58hbKCjx",
        "outputId": "76309a80-a797-4f51-a402-55562ea9eca9"
      },
      "source": [
        "print('Masukkan review:')\n",
        "review = input()\n",
        "hasil_review = model.predict([review])\n",
        "print('Review berkategori: ' + hasil_review[0])"
      ],
      "execution_count": null,
      "outputs": [
        {
          "output_type": "stream",
          "name": "stdout",
          "text": [
            "Masukkan review:\n",
            "aplikasi bagus, bermanfaat\n",
            "Review berkategori: positif\n"
          ]
        },
        {
          "output_type": "stream",
          "name": "stderr",
          "text": [
            "/usr/local/lib/python3.7/dist-packages/sklearn/utils/validation.py:590: FutureWarning: np.matrix usage is deprecated in 1.0 and will raise a TypeError in 1.2. Please convert to a numpy array with np.asarray. For more information see: https://numpy.org/doc/stable/reference/generated/numpy.matrix.html\n",
            "  FutureWarning,\n"
          ]
        }
      ]
    }
  ]
}