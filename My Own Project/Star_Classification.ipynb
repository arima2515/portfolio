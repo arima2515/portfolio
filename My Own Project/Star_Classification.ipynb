{
  "nbformat": 4,
  "nbformat_minor": 0,
  "metadata": {
    "colab": {
      "name": "Star Classification.ipynb",
      "provenance": [],
      "collapsed_sections": []
    },
    "kernelspec": {
      "name": "python3",
      "display_name": "Python 3"
    },
    "language_info": {
      "name": "python"
    }
  },
  "cells": [
    {
      "cell_type": "code",
      "metadata": {
        "colab": {
          "base_uri": "https://localhost:8080/",
          "height": 206
        },
        "id": "--8eOKrcXiC7",
        "outputId": "54ad71fb-f23f-424a-c055-fa6646fc1bca"
      },
      "source": [
        "import pandas as pd\n",
        "import numpy as np\n",
        "df = pd.read_csv(\"6 class csv.csv\")\n",
        "df.head()"
      ],
      "execution_count": null,
      "outputs": [
        {
          "output_type": "execute_result",
          "data": {
            "text/html": [
              "<div>\n",
              "<style scoped>\n",
              "    .dataframe tbody tr th:only-of-type {\n",
              "        vertical-align: middle;\n",
              "    }\n",
              "\n",
              "    .dataframe tbody tr th {\n",
              "        vertical-align: top;\n",
              "    }\n",
              "\n",
              "    .dataframe thead th {\n",
              "        text-align: right;\n",
              "    }\n",
              "</style>\n",
              "<table border=\"1\" class=\"dataframe\">\n",
              "  <thead>\n",
              "    <tr style=\"text-align: right;\">\n",
              "      <th></th>\n",
              "      <th>Temperature (K)</th>\n",
              "      <th>Luminosity(L/Lo)</th>\n",
              "      <th>Radius(R/Ro)</th>\n",
              "      <th>Absolute magnitude(Mv)</th>\n",
              "      <th>Star type</th>\n",
              "      <th>Star color</th>\n",
              "      <th>Spectral Class</th>\n",
              "    </tr>\n",
              "  </thead>\n",
              "  <tbody>\n",
              "    <tr>\n",
              "      <th>0</th>\n",
              "      <td>3068</td>\n",
              "      <td>0.002400</td>\n",
              "      <td>0.1700</td>\n",
              "      <td>16.12</td>\n",
              "      <td>0</td>\n",
              "      <td>Red</td>\n",
              "      <td>M</td>\n",
              "    </tr>\n",
              "    <tr>\n",
              "      <th>1</th>\n",
              "      <td>3042</td>\n",
              "      <td>0.000500</td>\n",
              "      <td>0.1542</td>\n",
              "      <td>16.60</td>\n",
              "      <td>0</td>\n",
              "      <td>Red</td>\n",
              "      <td>M</td>\n",
              "    </tr>\n",
              "    <tr>\n",
              "      <th>2</th>\n",
              "      <td>2600</td>\n",
              "      <td>0.000300</td>\n",
              "      <td>0.1020</td>\n",
              "      <td>18.70</td>\n",
              "      <td>0</td>\n",
              "      <td>Red</td>\n",
              "      <td>M</td>\n",
              "    </tr>\n",
              "    <tr>\n",
              "      <th>3</th>\n",
              "      <td>2800</td>\n",
              "      <td>0.000200</td>\n",
              "      <td>0.1600</td>\n",
              "      <td>16.65</td>\n",
              "      <td>0</td>\n",
              "      <td>Red</td>\n",
              "      <td>M</td>\n",
              "    </tr>\n",
              "    <tr>\n",
              "      <th>4</th>\n",
              "      <td>1939</td>\n",
              "      <td>0.000138</td>\n",
              "      <td>0.1030</td>\n",
              "      <td>20.06</td>\n",
              "      <td>0</td>\n",
              "      <td>Red</td>\n",
              "      <td>M</td>\n",
              "    </tr>\n",
              "  </tbody>\n",
              "</table>\n",
              "</div>"
            ],
            "text/plain": [
              "   Temperature (K)  Luminosity(L/Lo)  ...  Star color  Spectral Class\n",
              "0             3068          0.002400  ...         Red               M\n",
              "1             3042          0.000500  ...         Red               M\n",
              "2             2600          0.000300  ...         Red               M\n",
              "3             2800          0.000200  ...         Red               M\n",
              "4             1939          0.000138  ...         Red               M\n",
              "\n",
              "[5 rows x 7 columns]"
            ]
          },
          "metadata": {
            "tags": []
          },
          "execution_count": 54
        }
      ]
    },
    {
      "cell_type": "code",
      "metadata": {
        "colab": {
          "base_uri": "https://localhost:8080/"
        },
        "id": "lz4kEzbcZlQh",
        "outputId": "5f1f5dbb-3531-4597-93c8-19a99c538f9a"
      },
      "source": [
        "df.info()"
      ],
      "execution_count": null,
      "outputs": [
        {
          "output_type": "stream",
          "text": [
            "<class 'pandas.core.frame.DataFrame'>\n",
            "RangeIndex: 240 entries, 0 to 239\n",
            "Data columns (total 7 columns):\n",
            " #   Column                  Non-Null Count  Dtype  \n",
            "---  ------                  --------------  -----  \n",
            " 0   Temperature (K)         240 non-null    int64  \n",
            " 1   Luminosity(L/Lo)        240 non-null    float64\n",
            " 2   Radius(R/Ro)            240 non-null    float64\n",
            " 3   Absolute magnitude(Mv)  240 non-null    float64\n",
            " 4   Star type               240 non-null    int64  \n",
            " 5   Star color              240 non-null    object \n",
            " 6   Spectral Class          240 non-null    object \n",
            "dtypes: float64(3), int64(2), object(2)\n",
            "memory usage: 13.2+ KB\n"
          ],
          "name": "stdout"
        }
      ]
    },
    {
      "cell_type": "code",
      "metadata": {
        "colab": {
          "base_uri": "https://localhost:8080/",
          "height": 423
        },
        "id": "QQFjdLdVZgeZ",
        "outputId": "d193e046-60ab-4ae9-8722-d28a06d309c2"
      },
      "source": [
        "df.rename(columns={\"Temperature (K)\":\"Temperature\", \"Luminosity(L/Lo)\":\"Luminosity\",\"Radius(R/Ro)\":\"Radius\",\"Absolute magnitude(Mv)\":\"Absolute magnitude\"})"
      ],
      "execution_count": null,
      "outputs": [
        {
          "output_type": "execute_result",
          "data": {
            "text/html": [
              "<div>\n",
              "<style scoped>\n",
              "    .dataframe tbody tr th:only-of-type {\n",
              "        vertical-align: middle;\n",
              "    }\n",
              "\n",
              "    .dataframe tbody tr th {\n",
              "        vertical-align: top;\n",
              "    }\n",
              "\n",
              "    .dataframe thead th {\n",
              "        text-align: right;\n",
              "    }\n",
              "</style>\n",
              "<table border=\"1\" class=\"dataframe\">\n",
              "  <thead>\n",
              "    <tr style=\"text-align: right;\">\n",
              "      <th></th>\n",
              "      <th>Temperature</th>\n",
              "      <th>Luminosity</th>\n",
              "      <th>Radius</th>\n",
              "      <th>Absolute magnitude</th>\n",
              "      <th>Star type</th>\n",
              "      <th>Star color</th>\n",
              "      <th>Spectral Class</th>\n",
              "    </tr>\n",
              "  </thead>\n",
              "  <tbody>\n",
              "    <tr>\n",
              "      <th>0</th>\n",
              "      <td>3068</td>\n",
              "      <td>0.002400</td>\n",
              "      <td>0.1700</td>\n",
              "      <td>16.12</td>\n",
              "      <td>0</td>\n",
              "      <td>Red</td>\n",
              "      <td>M</td>\n",
              "    </tr>\n",
              "    <tr>\n",
              "      <th>1</th>\n",
              "      <td>3042</td>\n",
              "      <td>0.000500</td>\n",
              "      <td>0.1542</td>\n",
              "      <td>16.60</td>\n",
              "      <td>0</td>\n",
              "      <td>Red</td>\n",
              "      <td>M</td>\n",
              "    </tr>\n",
              "    <tr>\n",
              "      <th>2</th>\n",
              "      <td>2600</td>\n",
              "      <td>0.000300</td>\n",
              "      <td>0.1020</td>\n",
              "      <td>18.70</td>\n",
              "      <td>0</td>\n",
              "      <td>Red</td>\n",
              "      <td>M</td>\n",
              "    </tr>\n",
              "    <tr>\n",
              "      <th>3</th>\n",
              "      <td>2800</td>\n",
              "      <td>0.000200</td>\n",
              "      <td>0.1600</td>\n",
              "      <td>16.65</td>\n",
              "      <td>0</td>\n",
              "      <td>Red</td>\n",
              "      <td>M</td>\n",
              "    </tr>\n",
              "    <tr>\n",
              "      <th>4</th>\n",
              "      <td>1939</td>\n",
              "      <td>0.000138</td>\n",
              "      <td>0.1030</td>\n",
              "      <td>20.06</td>\n",
              "      <td>0</td>\n",
              "      <td>Red</td>\n",
              "      <td>M</td>\n",
              "    </tr>\n",
              "    <tr>\n",
              "      <th>...</th>\n",
              "      <td>...</td>\n",
              "      <td>...</td>\n",
              "      <td>...</td>\n",
              "      <td>...</td>\n",
              "      <td>...</td>\n",
              "      <td>...</td>\n",
              "      <td>...</td>\n",
              "    </tr>\n",
              "    <tr>\n",
              "      <th>235</th>\n",
              "      <td>38940</td>\n",
              "      <td>374830.000000</td>\n",
              "      <td>1356.0000</td>\n",
              "      <td>-9.93</td>\n",
              "      <td>5</td>\n",
              "      <td>Blue</td>\n",
              "      <td>O</td>\n",
              "    </tr>\n",
              "    <tr>\n",
              "      <th>236</th>\n",
              "      <td>30839</td>\n",
              "      <td>834042.000000</td>\n",
              "      <td>1194.0000</td>\n",
              "      <td>-10.63</td>\n",
              "      <td>5</td>\n",
              "      <td>Blue</td>\n",
              "      <td>O</td>\n",
              "    </tr>\n",
              "    <tr>\n",
              "      <th>237</th>\n",
              "      <td>8829</td>\n",
              "      <td>537493.000000</td>\n",
              "      <td>1423.0000</td>\n",
              "      <td>-10.73</td>\n",
              "      <td>5</td>\n",
              "      <td>White</td>\n",
              "      <td>A</td>\n",
              "    </tr>\n",
              "    <tr>\n",
              "      <th>238</th>\n",
              "      <td>9235</td>\n",
              "      <td>404940.000000</td>\n",
              "      <td>1112.0000</td>\n",
              "      <td>-11.23</td>\n",
              "      <td>5</td>\n",
              "      <td>White</td>\n",
              "      <td>A</td>\n",
              "    </tr>\n",
              "    <tr>\n",
              "      <th>239</th>\n",
              "      <td>37882</td>\n",
              "      <td>294903.000000</td>\n",
              "      <td>1783.0000</td>\n",
              "      <td>-7.80</td>\n",
              "      <td>5</td>\n",
              "      <td>Blue</td>\n",
              "      <td>O</td>\n",
              "    </tr>\n",
              "  </tbody>\n",
              "</table>\n",
              "<p>240 rows × 7 columns</p>\n",
              "</div>"
            ],
            "text/plain": [
              "     Temperature     Luminosity     Radius  ...  Star type  Star color Spectral Class\n",
              "0           3068       0.002400     0.1700  ...          0         Red              M\n",
              "1           3042       0.000500     0.1542  ...          0         Red              M\n",
              "2           2600       0.000300     0.1020  ...          0         Red              M\n",
              "3           2800       0.000200     0.1600  ...          0         Red              M\n",
              "4           1939       0.000138     0.1030  ...          0         Red              M\n",
              "..           ...            ...        ...  ...        ...         ...            ...\n",
              "235        38940  374830.000000  1356.0000  ...          5        Blue              O\n",
              "236        30839  834042.000000  1194.0000  ...          5        Blue              O\n",
              "237         8829  537493.000000  1423.0000  ...          5       White              A\n",
              "238         9235  404940.000000  1112.0000  ...          5       White              A\n",
              "239        37882  294903.000000  1783.0000  ...          5        Blue              O\n",
              "\n",
              "[240 rows x 7 columns]"
            ]
          },
          "metadata": {
            "tags": []
          },
          "execution_count": 56
        }
      ]
    },
    {
      "cell_type": "code",
      "metadata": {
        "colab": {
          "base_uri": "https://localhost:8080/",
          "height": 300
        },
        "id": "LM7-oCftbCb6",
        "outputId": "6e7f9a0e-330d-4bbf-b929-679650fe6b87"
      },
      "source": [
        "df.describe()"
      ],
      "execution_count": null,
      "outputs": [
        {
          "output_type": "execute_result",
          "data": {
            "text/html": [
              "<div>\n",
              "<style scoped>\n",
              "    .dataframe tbody tr th:only-of-type {\n",
              "        vertical-align: middle;\n",
              "    }\n",
              "\n",
              "    .dataframe tbody tr th {\n",
              "        vertical-align: top;\n",
              "    }\n",
              "\n",
              "    .dataframe thead th {\n",
              "        text-align: right;\n",
              "    }\n",
              "</style>\n",
              "<table border=\"1\" class=\"dataframe\">\n",
              "  <thead>\n",
              "    <tr style=\"text-align: right;\">\n",
              "      <th></th>\n",
              "      <th>Temperature (K)</th>\n",
              "      <th>Luminosity(L/Lo)</th>\n",
              "      <th>Radius(R/Ro)</th>\n",
              "      <th>Absolute magnitude(Mv)</th>\n",
              "      <th>Star type</th>\n",
              "    </tr>\n",
              "  </thead>\n",
              "  <tbody>\n",
              "    <tr>\n",
              "      <th>count</th>\n",
              "      <td>240.000000</td>\n",
              "      <td>240.000000</td>\n",
              "      <td>240.000000</td>\n",
              "      <td>240.000000</td>\n",
              "      <td>240.000000</td>\n",
              "    </tr>\n",
              "    <tr>\n",
              "      <th>mean</th>\n",
              "      <td>10497.462500</td>\n",
              "      <td>107188.361635</td>\n",
              "      <td>237.157781</td>\n",
              "      <td>4.382396</td>\n",
              "      <td>2.500000</td>\n",
              "    </tr>\n",
              "    <tr>\n",
              "      <th>std</th>\n",
              "      <td>9552.425037</td>\n",
              "      <td>179432.244940</td>\n",
              "      <td>517.155763</td>\n",
              "      <td>10.532512</td>\n",
              "      <td>1.711394</td>\n",
              "    </tr>\n",
              "    <tr>\n",
              "      <th>min</th>\n",
              "      <td>1939.000000</td>\n",
              "      <td>0.000080</td>\n",
              "      <td>0.008400</td>\n",
              "      <td>-11.920000</td>\n",
              "      <td>0.000000</td>\n",
              "    </tr>\n",
              "    <tr>\n",
              "      <th>25%</th>\n",
              "      <td>3344.250000</td>\n",
              "      <td>0.000865</td>\n",
              "      <td>0.102750</td>\n",
              "      <td>-6.232500</td>\n",
              "      <td>1.000000</td>\n",
              "    </tr>\n",
              "    <tr>\n",
              "      <th>50%</th>\n",
              "      <td>5776.000000</td>\n",
              "      <td>0.070500</td>\n",
              "      <td>0.762500</td>\n",
              "      <td>8.313000</td>\n",
              "      <td>2.500000</td>\n",
              "    </tr>\n",
              "    <tr>\n",
              "      <th>75%</th>\n",
              "      <td>15055.500000</td>\n",
              "      <td>198050.000000</td>\n",
              "      <td>42.750000</td>\n",
              "      <td>13.697500</td>\n",
              "      <td>4.000000</td>\n",
              "    </tr>\n",
              "    <tr>\n",
              "      <th>max</th>\n",
              "      <td>40000.000000</td>\n",
              "      <td>849420.000000</td>\n",
              "      <td>1948.500000</td>\n",
              "      <td>20.060000</td>\n",
              "      <td>5.000000</td>\n",
              "    </tr>\n",
              "  </tbody>\n",
              "</table>\n",
              "</div>"
            ],
            "text/plain": [
              "       Temperature (K)  Luminosity(L/Lo)  ...  Absolute magnitude(Mv)   Star type\n",
              "count       240.000000        240.000000  ...              240.000000  240.000000\n",
              "mean      10497.462500     107188.361635  ...                4.382396    2.500000\n",
              "std        9552.425037     179432.244940  ...               10.532512    1.711394\n",
              "min        1939.000000          0.000080  ...              -11.920000    0.000000\n",
              "25%        3344.250000          0.000865  ...               -6.232500    1.000000\n",
              "50%        5776.000000          0.070500  ...                8.313000    2.500000\n",
              "75%       15055.500000     198050.000000  ...               13.697500    4.000000\n",
              "max       40000.000000     849420.000000  ...               20.060000    5.000000\n",
              "\n",
              "[8 rows x 5 columns]"
            ]
          },
          "metadata": {
            "tags": []
          },
          "execution_count": 57
        }
      ]
    },
    {
      "cell_type": "code",
      "metadata": {
        "colab": {
          "base_uri": "https://localhost:8080/",
          "height": 1000
        },
        "id": "BMwG4vMpbLax",
        "outputId": "eb5d2f40-d725-45cb-cc0d-8bb7b94c72e2"
      },
      "source": [
        "df.hist(figsize=(20,15))"
      ],
      "execution_count": null,
      "outputs": [
        {
          "output_type": "execute_result",
          "data": {
            "text/plain": [
              "array([[<matplotlib.axes._subplots.AxesSubplot object at 0x7fd2003c4190>,\n",
              "        <matplotlib.axes._subplots.AxesSubplot object at 0x7fd200112a10>],\n",
              "       [<matplotlib.axes._subplots.AxesSubplot object at 0x7fd208f8c510>,\n",
              "        <matplotlib.axes._subplots.AxesSubplot object at 0x7fd200079190>],\n",
              "       [<matplotlib.axes._subplots.AxesSubplot object at 0x7fd200030690>,\n",
              "        <matplotlib.axes._subplots.AxesSubplot object at 0x7fd1fffe5d10>]],\n",
              "      dtype=object)"
            ]
          },
          "metadata": {
            "tags": []
          },
          "execution_count": 58
        },
        {
          "output_type": "display_data",
          "data": {
            "image/png": "[encoded data removed]",
            "text/plain": [
              "<Figure size 1440x1080 with 6 Axes>"
            ]
          },
          "metadata": {
            "tags": [],
            "needs_background": "light"
          }
        }
      ]
    },
    {
      "cell_type": "code",
      "metadata": {
        "colab": {
          "base_uri": "https://localhost:8080/"
        },
        "id": "54wnDFU2bUTJ",
        "outputId": "b5ad1239-f6c5-416b-87b5-cd0428903c90"
      },
      "source": [
        "print(df.isnull().sum())"
      ],
      "execution_count": null,
      "outputs": [
        {
          "output_type": "stream",
          "text": [
            "Temperature (K)           0\n",
            "Luminosity(L/Lo)          0\n",
            "Radius(R/Ro)              0\n",
            "Absolute magnitude(Mv)    0\n",
            "Star type                 0\n",
            "Star color                0\n",
            "Spectral Class            0\n",
            "dtype: int64\n"
          ],
          "name": "stdout"
        }
      ]
    },
    {
      "cell_type": "code",
      "metadata": {
        "colab": {
          "base_uri": "https://localhost:8080/"
        },
        "id": "v7Ud_O1tbZzi",
        "outputId": "2e36511f-5190-4e43-aa5c-d52363aa7cb9"
      },
      "source": [
        "df['Star type'].value_counts()"
      ],
      "execution_count": null,
      "outputs": [
        {
          "output_type": "execute_result",
          "data": {
            "text/plain": [
              "5    40\n",
              "4    40\n",
              "3    40\n",
              "2    40\n",
              "1    40\n",
              "0    40\n",
              "Name: Star type, dtype: int64"
            ]
          },
          "metadata": {
            "tags": []
          },
          "execution_count": 60
        }
      ]
    },
    {
      "cell_type": "code",
      "metadata": {
        "id": "PiMZ8o7UgYVL"
      },
      "source": [
        "temp = []\n",
        "for i in df['Star color']:\n",
        "  temp.append(i.strip().replace(\"-\",\" \").lower())\n",
        "df['Star color'] = temp"
      ],
      "execution_count": null,
      "outputs": []
    },
    {
      "cell_type": "code",
      "metadata": {
        "colab": {
          "base_uri": "https://localhost:8080/"
        },
        "id": "lhIUg1Xfdxia",
        "outputId": "a5fc43a9-0fed-4a82-f596-5fcb7f6ea88c"
      },
      "source": [
        "df['Star color'].value_counts()"
      ],
      "execution_count": null,
      "outputs": [
        {
          "output_type": "execute_result",
          "data": {
            "text/plain": [
              "red                   112\n",
              "blue                   56\n",
              "blue white             41\n",
              "white                  10\n",
              "yellow white            8\n",
              "yellowish white         3\n",
              "yellowish               3\n",
              "whitish                 2\n",
              "orange                  2\n",
              "white yellow            1\n",
              "pale yellow orange      1\n",
              "orange red              1\n",
              "Name: Star color, dtype: int64"
            ]
          },
          "metadata": {
            "tags": []
          },
          "execution_count": 62
        }
      ]
    },
    {
      "cell_type": "code",
      "metadata": {
        "colab": {
          "base_uri": "https://localhost:8080/"
        },
        "id": "cCVPBM1id17C",
        "outputId": "9a17cdb5-401b-4bd3-9477-c59a989889ac"
      },
      "source": [
        "df['Spectral Class'].value_counts()"
      ],
      "execution_count": null,
      "outputs": [
        {
          "output_type": "execute_result",
          "data": {
            "text/plain": [
              "M    111\n",
              "B     46\n",
              "O     40\n",
              "A     19\n",
              "F     17\n",
              "K      6\n",
              "G      1\n",
              "Name: Spectral Class, dtype: int64"
            ]
          },
          "metadata": {
            "tags": []
          },
          "execution_count": 63
        }
      ]
    },
    {
      "cell_type": "code",
      "metadata": {
        "id": "-JaSmLwRd-L3"
      },
      "source": [
        "df.replace(['red','blue','blue white','white','yellow white','yellowish white','yellowish','whitish','orange','white yellow','pale yellow orange','orange red'],\n",
        "            [0,1,2,3,4,5,6,7,8,9,10,11],inplace=True)\n",
        "df.replace(['M','B','O','A','F','K','G'],[0,1,2,3,4,5,6],inplace=True)"
      ],
      "execution_count": null,
      "outputs": []
    },
    {
      "cell_type": "code",
      "metadata": {
        "colab": {
          "base_uri": "https://localhost:8080/",
          "height": 265
        },
        "id": "4-vFgb9dbunZ",
        "outputId": "ad852351-884b-4290-ce2b-7cb0d1366523"
      },
      "source": [
        "import matplotlib.pyplot as plt\n",
        "import seaborn as sns\n",
        "df['Star type'].value_counts().plot(kind='pie')"
      ],
      "execution_count": null,
      "outputs": [
        {
          "output_type": "execute_result",
          "data": {
            "text/plain": [
              "<matplotlib.axes._subplots.AxesSubplot at 0x7fd1ffef93d0>"
            ]
          },
          "metadata": {
            "tags": []
          },
          "execution_count": 65
        },
        {
          "output_type": "display_data",
          "data": {
            "image/png": "[encoded data removed]",
            "text/plain": [
              "<Figure size 432x288 with 1 Axes>"
            ]
          },
          "metadata": {
            "tags": []
          }
        }
      ]
    },
    {
      "cell_type": "code",
      "metadata": {
        "colab": {
          "base_uri": "https://localhost:8080/",
          "height": 297
        },
        "id": "vCH9tuv3b3r7",
        "outputId": "7fb6bfdb-ee7d-4d4a-db51-5c60c6656a40"
      },
      "source": [
        "sns.scatterplot(x=df['Temperature (K)'], y=df['Radius(R/Ro)'],hue=df['Star type'],data=df)"
      ],
      "execution_count": null,
      "outputs": [
        {
          "output_type": "execute_result",
          "data": {
            "text/plain": [
              "<matplotlib.axes._subplots.AxesSubplot at 0x7fd1fff148d0>"
            ]
          },
          "metadata": {
            "tags": []
          },
          "execution_count": 66
        },
        {
          "output_type": "display_data",
          "data": {
            "image/png": "[encoded data removed]",
            "text/plain": [
              "<Figure size 432x288 with 1 Axes>"
            ]
          },
          "metadata": {
            "tags": [],
            "needs_background": "light"
          }
        }
      ]
    },
    {
      "cell_type": "code",
      "metadata": {
        "colab": {
          "base_uri": "https://localhost:8080/",
          "height": 297
        },
        "id": "T3bn_UaXcnWz",
        "outputId": "309ebeb1-aa09-488f-a144-31bc69d18702"
      },
      "source": [
        "sns.scatterplot(x=df['Temperature (K)'], y=df['Luminosity(L/Lo)'],hue=df['Star type'],data=df)"
      ],
      "execution_count": null,
      "outputs": [
        {
          "output_type": "execute_result",
          "data": {
            "text/plain": [
              "<matplotlib.axes._subplots.AxesSubplot at 0x7fd1ffcfebd0>"
            ]
          },
          "metadata": {
            "tags": []
          },
          "execution_count": 67
        },
        {
          "output_type": "display_data",
          "data": {
            "image/png": "[encoded data removed]",
            "text/plain": [
              "<Figure size 432x288 with 1 Axes>"
            ]
          },
          "metadata": {
            "tags": [],
            "needs_background": "light"
          }
        }
      ]
    },
    {
      "cell_type": "code",
      "metadata": {
        "colab": {
          "base_uri": "https://localhost:8080/",
          "height": 875
        },
        "id": "e167GW6YgDJj",
        "outputId": "9653cbe8-7bd9-4bc3-dba4-d1a694ae446a"
      },
      "source": [
        "plt.figure(figsize=(20,15))\n",
        "sns.heatmap(df.corr(),annot=True,cmap='coolwarm')"
      ],
      "execution_count": null,
      "outputs": [
        {
          "output_type": "execute_result",
          "data": {
            "text/plain": [
              "<matplotlib.axes._subplots.AxesSubplot at 0x7fd1ffc93690>"
            ]
          },
          "metadata": {
            "tags": []
          },
          "execution_count": 68
        },
        {
          "output_type": "display_data",
          "data": {
            "image/png": "[encoded data removed]",
            "text/plain": [
              "<Figure size 1440x1080 with 2 Axes>"
            ]
          },
          "metadata": {
            "tags": [],
            "needs_background": "light"
          }
        }
      ]
    },
    {
      "cell_type": "code",
      "metadata": {
        "id": "eIroAfQrdbrC"
      },
      "source": [
        "X = df.drop(['Star type'],axis=1)\n",
        "y = df['Star type']"
      ],
      "execution_count": null,
      "outputs": []
    },
    {
      "cell_type": "code",
      "metadata": {
        "id": "pV8HbQMYcwIp"
      },
      "source": [
        "from sklearn.preprocessing import StandardScaler\n",
        "scaler = StandardScaler()\n",
        "feature = X.columns\n",
        "X[feature] = scaler.fit_transform(X[feature])"
      ],
      "execution_count": null,
      "outputs": []
    },
    {
      "cell_type": "code",
      "metadata": {
        "id": "xnVbwtUDjwNp"
      },
      "source": [
        "from sklearn.tree import DecisionTreeClassifier\n",
        "from sklearn.ensemble import RandomForestClassifier\n",
        "from sklearn.linear_model import LogisticRegression\n",
        "from sklearn.neighbors import KNeighborsClassifier\n",
        "from sklearn.ensemble import BaggingClassifier\n",
        "from sklearn.ensemble import AdaBoostClassifier\n",
        "from xgboost import XGBClassifier\n",
        "\n",
        "from sklearn.model_selection import train_test_split\n",
        "from sklearn.model_selection import GridSearchCV, RandomizedSearchCV"
      ],
      "execution_count": null,
      "outputs": []
    },
    {
      "cell_type": "code",
      "metadata": {
        "id": "UTO4M0LXj6Aq"
      },
      "source": [
        "X_train, X_test, y_train, y_test = train_test_split(X, y , test_size = 0.1)"
      ],
      "execution_count": null,
      "outputs": []
    },
    {
      "cell_type": "code",
      "metadata": {
        "id": "bV0c3R_sj877"
      },
      "source": [
        "#Hyper Parameter Tuning\n",
        "lr = LogisticRegression(random_state=42)\n",
        "dt = DecisionTreeClassifier()\n",
        "rf = RandomForestClassifier()\n",
        "knn = KNeighborsClassifier()\n",
        "ada = AdaBoostClassifier()\n",
        "xgb = XGBClassifier(eval_metric='logloss', use_label_encoder=False)\n",
        "\n",
        "#param tuning for knn\n",
        "param_knn = {'n_neighbors' : np.arange(1,50)}\n",
        "grid_knn = GridSearchCV(knn, param_grid = param_knn, cv = 5)\n",
        "\n",
        "#param tuning for dt\n",
        "param_dt = {'criterion':['gini','entropy'], 'max_depth': np.arange(1,50),'min_samples_leaf':[1,2,3,4,5,10,20,30,40,80,100]}\n",
        "grid_dt = GridSearchCV(dt, param_grid= param_dt, cv = 5)\n",
        "\n",
        "#param tuning for rf\n",
        "param_rf = {'n_estimators':[100,200, 350, 500], 'min_samples_leaf': [2,10,30]}\n",
        "grid_rf = GridSearchCV(rf, param_grid=param_rf, cv = 5)\n",
        "\n",
        "#param tuning for ada \n",
        "param_ada = {'n_estimators':[50,100,250,400,500,600], 'learning_rate':[0.2,0.5,0.8,1]}\n",
        "grid_ada = GridSearchCV(ada, param_grid=param_ada, cv = 5)\n",
        "\n",
        "#param tuning for xgb\n",
        "param_xgb = {'n_estimators':[50,100,250,400,600,800,1000], 'learning_rate':[0.2,0.5,0.8,1]}\n",
        "rs_xgb = RandomizedSearchCV(xgb, param_distributions = param_xgb, cv= 5)\n"
      ],
      "execution_count": null,
      "outputs": []
    },
    {
      "cell_type": "code",
      "metadata": {
        "colab": {
          "base_uri": "https://localhost:8080/"
        },
        "id": "iyJRMCF_j-fS",
        "outputId": "8b56fccd-0bbc-45a4-d881-585af1995edb"
      },
      "source": [
        "grid_knn.fit(X_train,y_train)\n",
        "grid_dt.fit(X_train,y_train)\n",
        "grid_rf.fit(X_train,y_train)\n",
        "grid_ada.fit(X_train,y_train)\n",
        "rs_xgb.fit(X_train,y_train)\n",
        "\n",
        "print(\"Best params for knn : \" , grid_knn.best_params_)\n",
        "print(\"Best params for dt : \" , grid_dt.best_params_)\n",
        "print(\"Best params for rf : \" , grid_rf.best_params_)\n",
        "print(\"Best params for ada : \" , grid_ada.best_params_)\n",
        "print(\"Best params for xgb : \" , rs_xgb.best_params_)"
      ],
      "execution_count": null,
      "outputs": [
        {
          "output_type": "stream",
          "text": [
            "Best params for knn :  {'n_neighbors': 1}\n",
            "Best params for dt :  {'criterion': 'gini', 'max_depth': 5, 'min_samples_leaf': 1}\n",
            "Best params for rf :  {'min_samples_leaf': 2, 'n_estimators': 100}\n",
            "Best params for ada :  {'learning_rate': 0.2, 'n_estimators': 50}\n",
            "Best params for xgb :  {'n_estimators': 400, 'learning_rate': 0.2}\n"
          ],
          "name": "stdout"
        }
      ]
    },
    {
      "cell_type": "code",
      "metadata": {
        "colab": {
          "base_uri": "https://localhost:8080/"
        },
        "id": "SwLYAyt2knlf",
        "outputId": "5021658e-18a4-4307-b18c-4a0e779472e3"
      },
      "source": [
        "lr = LogisticRegression(random_state=42)\n",
        "knn = KNeighborsClassifier(n_neighbors=1)\n",
        "dt = DecisionTreeClassifier(criterion='gini', max_depth=5,min_samples_leaf=1)\n",
        "rf = RandomForestClassifier(min_samples_leaf=2,n_estimators=100,random_state=42)\n",
        "ada = AdaBoostClassifier(learning_rate=0.2,n_estimators=50)\n",
        "xgb = XGBClassifier(n_estimators=400,learning_rate=0.2)\n",
        "\n",
        "bagging = BaggingClassifier(DecisionTreeClassifier(criterion='gini', max_depth=5,min_samples_leaf=1,random_state=42),n_estimators=100,random_state=42)\n",
        "bagging.fit(X_train,y_train)"
      ],
      "execution_count": null,
      "outputs": [
        {
          "output_type": "execute_result",
          "data": {
            "text/plain": [
              "BaggingClassifier(base_estimator=DecisionTreeClassifier(ccp_alpha=0.0,\n",
              "                                                        class_weight=None,\n",
              "                                                        criterion='gini',\n",
              "                                                        max_depth=5,\n",
              "                                                        max_features=None,\n",
              "                                                        max_leaf_nodes=None,\n",
              "                                                        min_impurity_decrease=0.0,\n",
              "                                                        min_impurity_split=None,\n",
              "                                                        min_samples_leaf=1,\n",
              "                                                        min_samples_split=2,\n",
              "                                                        min_weight_fraction_leaf=0.0,\n",
              "                                                        presort='deprecated',\n",
              "                                                        random_state=42,\n",
              "                                                        splitter='best'),\n",
              "                  bootstrap=True, bootstrap_features=False, max_features=1.0,\n",
              "                  max_samples=1.0, n_estimators=100, n_jobs=None,\n",
              "                  oob_score=False, random_state=42, verbose=0,\n",
              "                  warm_start=False)"
            ]
          },
          "metadata": {
            "tags": []
          },
          "execution_count": 76
        }
      ]
    },
    {
      "cell_type": "code",
      "metadata": {
        "id": "5C3_UJ6FkyfR"
      },
      "source": [
        "classifiers = [('Logistic Regression', lr), ('K Nearest Neighbours', knn), ('Decision Tree', dt), ('Random Forest', rf),('AdaBoost', ada),('Bagging Classifier',bagging),('XGBoost',xgb)]\n"
      ],
      "execution_count": null,
      "outputs": []
    },
    {
      "cell_type": "code",
      "metadata": {
        "colab": {
          "base_uri": "https://localhost:8080/"
        },
        "id": "O2ZYqhd3kzk7",
        "outputId": "4992ae2e-f0ec-48b0-ee92-1ff8b6c5bccc"
      },
      "source": [
        "from sklearn.metrics import accuracy_score\n",
        "\n",
        "for classifier_name, classifier in classifiers:\n",
        "\n",
        "  #fit the model\n",
        "  classifier.fit(X_train,y_train)\n",
        "\n",
        "  #test model\n",
        "  y_pred = classifier.predict(X_test)\n",
        "  accuracy = accuracy_score(y_test,y_pred)\n",
        "\n",
        "  #evaluate the accuracy model\n",
        "  print('{:s} : {:.2f}'.format(classifier_name,accuracy))"
      ],
      "execution_count": null,
      "outputs": [
        {
          "output_type": "stream",
          "text": [
            "Logistic Regression : 1.00\n",
            "K Nearest Neighbours : 0.96\n",
            "Decision Tree : 1.00\n",
            "Random Forest : 1.00\n",
            "AdaBoost : 1.00\n",
            "Bagging Classifier : 1.00\n",
            "XGBoost : 1.00\n"
          ],
          "name": "stdout"
        }
      ]
    },
    {
      "cell_type": "code",
      "metadata": {
        "colab": {
          "base_uri": "https://localhost:8080/"
        },
        "id": "kQ0EJCnxk5bi",
        "outputId": "972c5da1-8dfa-4946-81a3-80adb8df5cc9"
      },
      "source": [
        "from sklearn.metrics import classification_report\n",
        "\n",
        "y_pred_rf = rf.predict(X_test)\n",
        "print(classification_report(y_test,y_pred_rf))"
      ],
      "execution_count": null,
      "outputs": [
        {
          "output_type": "stream",
          "text": [
            "              precision    recall  f1-score   support\n",
            "\n",
            "           0       1.00      1.00      1.00         3\n",
            "           1       1.00      1.00      1.00         6\n",
            "           2       1.00      1.00      1.00         4\n",
            "           3       1.00      1.00      1.00         2\n",
            "           4       1.00      1.00      1.00         6\n",
            "           5       1.00      1.00      1.00         3\n",
            "\n",
            "    accuracy                           1.00        24\n",
            "   macro avg       1.00      1.00      1.00        24\n",
            "weighted avg       1.00      1.00      1.00        24\n",
            "\n"
          ],
          "name": "stdout"
        }
      ]
    },
    {
      "cell_type": "code",
      "metadata": {
        "colab": {
          "base_uri": "https://localhost:8080/",
          "height": 313
        },
        "id": "IZGNNwSnk9KA",
        "outputId": "a98bd917-60b3-447a-ddab-3ffa0993bdd8"
      },
      "source": [
        "from sklearn import metrics\n",
        "import seaborn as sns\n",
        "import matplotlib.pyplot as plt \n",
        "cnf_matrix = metrics.confusion_matrix(y_test, y_pred_rf)\n",
        "p = sns.heatmap(pd.DataFrame(cnf_matrix),annot=True, cmap=\"YlGnBu\" ,fmt='g')\n",
        "plt.title('Confusion matrix', y=1.1)\n",
        "plt.ylabel('Actual label')\n",
        "plt.xlabel('Predicted label')"
      ],
      "execution_count": null,
      "outputs": [
        {
          "output_type": "execute_result",
          "data": {
            "text/plain": [
              "Text(0.5, 15.0, 'Predicted label')"
            ]
          },
          "metadata": {
            "tags": []
          },
          "execution_count": 84
        },
        {
          "output_type": "display_data",
          "data": {
            "image/png": "[encoded data removed]",
            "text/plain": [
              "<Figure size 432x288 with 2 Axes>"
            ]
          },
          "metadata": {
            "tags": [],
            "needs_background": "light"
          }
        }
      ]
    }
  ]
}